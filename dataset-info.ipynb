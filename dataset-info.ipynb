{
 "cells": [
  {
   "cell_type": "code",
   "execution_count": 1,
   "metadata": {},
   "outputs": [],
   "source": [
    "import numpy as np\n",
    "import pandas as pd\n",
    "\n",
    "import matplotlib.pyplot as plt\n",
    "%matplotlib inline"
   ]
  },
  {
   "cell_type": "code",
   "execution_count": 2,
   "metadata": {},
   "outputs": [],
   "source": [
    "#DATA_DIR = \"/home/spa/coin-vision/data/all-23703-20181213/\"\n",
    "DATA_DIR = \"/Volumes/SeagateDrive/coin-vision/data/micro-25-20190204/\"\n",
    "\n",
    "DATASET_FILE_NAME = DATA_DIR + 'dataset.csv'\n",
    "\n",
    "coinsDataset = pd.read_csv(DATASET_FILE_NAME)"
   ]
  },
  {
   "cell_type": "code",
   "execution_count": 3,
   "metadata": {},
   "outputs": [
    {
     "name": "stdout",
     "output_type": "stream",
     "text": [
      "Total classes: 25, min items per class: 51, max items per class: 59\n"
     ]
    },
    {
     "data": {
      "image/png": "[encoded data removed]",
      "text/plain": [
       "<Figure size 432x288 with 1 Axes>"
      ]
     },
     "metadata": {
      "needs_background": "light"
     },
     "output_type": "display_data"
    }
   ],
   "source": [
    "coinGroupId = coinsDataset['coinGroupId'].value_counts()\n",
    "\n",
    "#coinGroupId = coinGroupId[coinGroupId < 100]\n",
    "\n",
    "axarr = coinGroupId.hist(bins=20)\n",
    "axarr.set_title('Histogram with items per class distribution')\n",
    "axarr.set_xlabel('items per class')\n",
    "axarr.set_ylabel('amount')\n",
    "\n",
    "print('Total classes: {}, min items per class: {}, max items per class: {}'.format(len(coinGroupId), coinGroupId.min(), coinGroupId.max()))\n"
   ]
  },
  {
   "cell_type": "code",
   "execution_count": 4,
   "metadata": {},
   "outputs": [
    {
     "data": {
      "text/plain": [
       "EP_BwcI0tSIAAAEpdnX.2mma    59\n",
       "eljBwcI05fQAAAEoHtJK1_Pw    59\n",
       "b6QK_j7gvaIAAAE0hJ2yPITR    59\n",
       "0E3BwcI0u2YAAAEr2Y9bGgFN    59\n",
       "7LJ_AAEBUvoAAAEjD93APfNR    59\n",
       "EpbBwcI0kSIAAAEnqnff8ppN    58\n",
       "e47BwcI0A5oAAAEnZIlaOLPP    57\n",
       "5F8KbzbifW0AAAFMwI3GHitP    57\n",
       "3XLBwcI0_NUAAAErkJdjEBuu    56\n",
       "7tUKbzbioxMAAAFF8O0hZfdp    55\n",
       "eujBwcI03bQAAAEnMBVaOLPI    55\n",
       "967BwcI05ncAAAEm3.9OQjgv    54\n",
       "2YgK.GJAtFgAAAEvNGbi7NnT    54\n",
       "blAK.GJAaroAAAEv4avi7NnR    52\n",
       "d2sKbzbiGA8AAAFNwzWx3RM7    52\n",
       "b1PBwcI0nXgAAAEnuaBK7uK8    52\n",
       "dJPBwcI0L2gAAAEr3lBjEBur    52\n",
       "79fBwcI0oNQAAAEoyct8PEiv    52\n",
       "7CAKbzbidSgAAAFNm4xmYGUO    52\n",
       "BbXBwcI0x2kAAAEscYXD8Cy_    51\n",
       "fkAKbzbiIz8AAAFMc0SKYUgV    51\n",
       "bW3BwcI0tNoAAAErPR1bGgEv    51\n",
       "2FrBwcI0y3wAAAEsZRav82Li    51\n",
       "8hYKbzbivsUAAAFMbIiKYUob    51\n",
       "094KbzbiZJIAAAFRCdU1_Hq6    51\n",
       "Name: coinGroupId, dtype: int64"
      ]
     },
     "execution_count": 4,
     "metadata": {},
     "output_type": "execute_result"
    }
   ],
   "source": [
    "coinGroupId"
   ]
  },
  {
   "cell_type": "code",
   "execution_count": null,
   "metadata": {},
   "outputs": [],
   "source": []
  }
 ],
 "metadata": {
  "kernelspec": {
   "display_name": "Python 3",
   "language": "python",
   "name": "python3"
  },
  "language_info": {
   "codemirror_mode": {
    "name": "ipython",
    "version": 3
   },
   "file_extension": ".py",
   "mimetype": "text/x-python",
   "name": "python",
   "nbconvert_exporter": "python",
   "pygments_lexer": "ipython3",
   "version": "3.6.1"
  }
 },
 "nbformat": 4,
 "nbformat_minor": 2
}
