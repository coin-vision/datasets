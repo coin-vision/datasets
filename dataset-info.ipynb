{
 "cells": [
  {
   "cell_type": "code",
   "execution_count": null,
   "metadata": {},
   "outputs": [],
   "source": [
    "import numpy as np\n",
    "import pandas as pd\n",
    "\n",
    "import matplotlib.pyplot as plt\n",
    "%matplotlib inline"
   ]
  },
  {
   "cell_type": "code",
   "execution_count": null,
   "metadata": {},
   "outputs": [],
   "source": [
    "#DATA_DIR = \"/home/spa/coin-vision/data/all-23703-20181213/\"\n",
    "DATA_DIR = \"/Volumes/SeagateDrive/coin-vision/data/micro-25-20190204/\"\n",
    "\n",
    "DATASET_FILE_NAME = DATA_DIR + 'dataset.csv'\n",
    "\n",
    "coinsDataset = pd.read_csv(DATASET_FILE_NAME)"
   ]
  },
  {
   "cell_type": "code",
   "execution_count": null,
   "metadata": {},
   "outputs": [],
   "source": [
    "coinGroupId = coinsDataset['coinGroupId'].value_counts()\n",
    "\n",
    "#coinGroupId = coinGroupId[coinGroupId < 100]\n",
    "\n",
    "axarr = coinGroupId.hist(bins=20)\n",
    "axarr.set_title('Histogram with items per class distribution')\n",
    "axarr.set_xlabel('items per class')\n",
    "axarr.set_ylabel('amount')\n",
    "\n",
    "print('Total classes: {}, min items per class: {}, max items per class: {}'.format(len(coinGroupId), coinGroupId.min(), coinGroupId.max()))\n"
   ]
  },
  {
   "cell_type": "code",
   "execution_count": null,
   "metadata": {},
   "outputs": [],
   "source": [
    "coinGroupId"
   ]
  },
  {
   "cell_type": "code",
   "execution_count": null,
   "metadata": {},
   "outputs": [],
   "source": []
  }
 ],
 "metadata": {
  "kernelspec": {
   "display_name": "Python 3",
   "language": "python",
   "name": "python3"
  },
  "language_info": {
   "codemirror_mode": {
    "name": "ipython",
    "version": 3
   },
   "file_extension": ".py",
   "mimetype": "text/x-python",
   "name": "python",
   "nbconvert_exporter": "python",
   "pygments_lexer": "ipython3",
   "version": "3.6.1"
  }
 },
 "nbformat": 4,
 "nbformat_minor": 2
}
